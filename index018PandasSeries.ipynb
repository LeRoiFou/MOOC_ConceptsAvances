{
 "cells": [
  {
   "cell_type": "code",
   "execution_count": 12,
   "id": "7aa5bbdf",
   "metadata": {},
   "outputs": [
    {
     "output_type": "execute_result",
     "data": {
      "text/plain": [
       "\"\\nLibrairie pandas\\n\\nNotions de la librairie pandas :\\nTableau à 1 dimension (1 colonne) = Series\\nTableau à 2 dimensions (2 colonnes) = DataFrame\\nindex : en-têtes des lignes\\n\\nL'avantage de cette librairie est que les opérations ne\\nse feront entre deux tableaux qui auront deux index identiques\\nÀ titre d'exemple deux tableaux avec un en-tête noms, prenoms et âges :\\nLes additions ne se feront que pour les colonnes qui auront le label 'ages'\\n\\nAutre avantage : la librairie pandas permet d'afficher les en-têtes des\\ntableaux qui ne sont pas par principe, créés par le programmeur concepteur.\\nÀ cela, les données sont généralement importés d'un fichier html, csv,\\nexcel, json, sql, python pickle...\\n\\nLes séries sont des tableaux à 1 dimension sur lesquels on va mettre un\\nindex au niveau des lignes uniquement\\n\\nÉditeur : Laurent REYNAUD\\nDate : 25-06-2021\\n\""
      ]
     },
     "metadata": {},
     "execution_count": 12
    }
   ],
   "source": [
    "\"\"\"\n",
    "Librairie pandas\n",
    "\n",
    "Notions de la librairie pandas :\n",
    "Tableau à 1 dimension (1 colonne) = Series\n",
    "Tableau à 2 dimensions (2 colonnes) = DataFrame\n",
    "index : en-têtes des lignes\n",
    "\n",
    "L'avantage de cette librairie est que les opérations ne\n",
    "se feront entre deux tableaux qui auront deux index identiques\n",
    "À titre d'exemple deux tableaux avec un en-tête noms, prenoms et âges :\n",
    "Les additions ne se feront que pour les colonnes qui auront le label 'ages'\n",
    "\n",
    "Autre avantage : la librairie pandas permet d'afficher les en-têtes des\n",
    "tableaux qui ne sont pas par principe, créés par le programmeur concepteur.\n",
    "À cela, les données sont généralement importés d'un fichier html, csv,\n",
    "excel, json, sql, python pickle...\n",
    "\n",
    "Les séries sont des tableaux à 1 dimension sur lesquels on va mettre un\n",
    "index au niveau des lignes uniquement\n",
    "\n",
    "Éditeur : Laurent REYNAUD\n",
    "Date : 25-06-2021\n",
    "\"\"\""
   ]
  },
  {
   "cell_type": "code",
   "execution_count": 13,
   "id": "27cf15e4",
   "metadata": {},
   "outputs": [],
   "source": [
    "import pandas as pd"
   ]
  },
  {
   "cell_type": "code",
   "execution_count": 14,
   "id": "f5029025",
   "metadata": {},
   "outputs": [
    {
     "output_type": "execute_result",
     "data": {
      "text/plain": [
       "eve     20\n",
       "bill    30\n",
       "liz     40\n",
       "bob     50\n",
       "dtype: int64"
      ]
     },
     "metadata": {},
     "execution_count": 14
    }
   ],
   "source": [
    "# Tableau d'âge de personnes\n",
    "s = pd.Series([20, 30, 40, 50],\n",
    "              index=['eve', 'bill', 'liz', 'bob'])\n",
    "s"
   ]
  },
  {
   "cell_type": "code",
   "execution_count": 15,
   "metadata": {},
   "outputs": [
    {
     "output_type": "execute_result",
     "data": {
      "text/plain": [
       "array([20, 30, 40, 50], dtype=int64)"
      ]
     },
     "metadata": {},
     "execution_count": 15
    }
   ],
   "source": [
    "# Liste des valeurs du tableau numpy\n",
    "s.values"
   ]
  },
  {
   "cell_type": "code",
   "execution_count": 16,
   "metadata": {},
   "outputs": [
    {
     "output_type": "execute_result",
     "data": {
      "text/plain": [
       "Index(['eve', 'bill', 'liz', 'bob'], dtype='object')"
      ]
     },
     "metadata": {},
     "execution_count": 16
    }
   ],
   "source": [
    "# Liste des index du tableau\n",
    "s.index"
   ]
  },
  {
   "cell_type": "code",
   "execution_count": 17,
   "metadata": {},
   "outputs": [
    {
     "output_type": "execute_result",
     "data": {
      "text/plain": [
       "20"
      ]
     },
     "metadata": {},
     "execution_count": 17
    }
   ],
   "source": [
    "# Accéder aux éléments du tableau\n",
    "s.loc['eve']"
   ]
  },
  {
   "cell_type": "code",
   "execution_count": 18,
   "metadata": {},
   "outputs": [
    {
     "output_type": "execute_result",
     "data": {
      "text/plain": [
       "eve     20\n",
       "bill    30\n",
       "liz     40\n",
       "dtype: int64"
      ]
     },
     "metadata": {},
     "execution_count": 18
    }
   ],
   "source": [
    "# Accéder aux valeurs de Eve jusqu'à Liz (Attention inclus)\n",
    "s.loc['eve':'liz']"
   ]
  },
  {
   "cell_type": "code",
   "execution_count": 20,
   "metadata": {},
   "outputs": [],
   "source": [
    "# Tableaux d'animaux détenus selon des personnes listés\n",
    "animaux = ['chien', 'chat', 'chat', 'chien', 'poisson']\n",
    "proprio = ['eve', 'bob', 'eve', 'bill', 'liz']"
   ]
  },
  {
   "cell_type": "code",
   "execution_count": 22,
   "metadata": {},
   "outputs": [
    {
     "output_type": "execute_result",
     "data": {
      "text/plain": [
       "eve       chien\n",
       "bob        chat\n",
       "eve        chat\n",
       "bill      chien\n",
       "liz     poisson\n",
       "dtype: object"
      ]
     },
     "metadata": {},
     "execution_count": 22
    }
   ],
   "source": [
    "# Combinaison des 2 tableaux ci-avant\n",
    "s = pd.Series(animaux, \n",
    "              index=proprio)\n",
    "s"
   ]
  },
  {
   "cell_type": "code",
   "execution_count": 23,
   "metadata": {},
   "outputs": [
    {
     "output_type": "execute_result",
     "data": {
      "text/plain": [
       "\"Résultat : il n'est pas possible de faire des slicings\\nsur des index dupliqués...\\nSolution : trier d'abord les index\""
      ]
     },
     "metadata": {},
     "execution_count": 23
    }
   ],
   "source": [
    "# Slicing sur ce nouveau tableau\n",
    "# print(s.loc['eve':'liz'])\n",
    "\"\"\"Résultat : il n'est pas possible de faire des slicings\n",
    "sur des index dupliqués...\n",
    "Solution : trier d'abord les index\"\"\""
   ]
  },
  {
   "cell_type": "code",
   "execution_count": 25,
   "metadata": {},
   "outputs": [
    {
     "output_type": "execute_result",
     "data": {
      "text/plain": [
       "eve      chien\n",
       "eve       chat\n",
       "liz    poisson\n",
       "dtype: object"
      ]
     },
     "metadata": {},
     "execution_count": 25
    }
   ],
   "source": [
    "# Trie des index\n",
    "s = s.sort_index()\n",
    "s.loc['eve':'liz']"
   ]
  },
  {
   "cell_type": "code",
   "execution_count": 27,
   "metadata": {},
   "outputs": [
    {
     "output_type": "execute_result",
     "data": {
      "text/plain": [
       "'chien'"
      ]
     },
     "metadata": {},
     "execution_count": 27
    }
   ],
   "source": [
    "# La fonction iloc permet d'accéder aux éléments du tableau\n",
    "#Accès au 1er élément de la liste\n",
    "s.iloc[0]\n"
   ]
  },
  {
   "cell_type": "code",
   "execution_count": 28,
   "metadata": {},
   "outputs": [
    {
     "output_type": "execute_result",
     "data": {
      "text/plain": [
       "'poisson'"
      ]
     },
     "metadata": {},
     "execution_count": 28
    }
   ],
   "source": [
    "#Accès au 5ème élément de la liste\n",
    "s.iloc[4]"
   ]
  },
  {
   "cell_type": "code",
   "execution_count": 29,
   "metadata": {},
   "outputs": [
    {
     "output_type": "execute_result",
     "data": {
      "text/plain": [
       "bob     chat\n",
       "eve    chien\n",
       "dtype: object"
      ]
     },
     "metadata": {},
     "execution_count": 29
    }
   ],
   "source": [
    "# Accès aux index et aux valeurs de l'élément 1 à 2 (élément 3 exclu)\n",
    "s.iloc[1:3]"
   ]
  },
  {
   "cell_type": "code",
   "execution_count": 30,
   "metadata": {},
   "outputs": [
    {
     "output_type": "execute_result",
     "data": {
      "text/plain": [
       "bill      chien\n",
       "eve       chien\n",
       "liz     poisson\n",
       "dtype: object"
      ]
     },
     "metadata": {},
     "execution_count": 30
    }
   ],
   "source": [
    "# Tous les index et les valeurs dont la valeur est 'chien' ou\n",
    "# la valeur est 'poisson'\n",
    "s.loc[(s=='chien') | (s=='poisson')]"
   ]
  },
  {
   "cell_type": "code",
   "execution_count": 32,
   "metadata": {},
   "outputs": [
    {
     "output_type": "execute_result",
     "data": {
      "text/plain": [
       "bill    autre\n",
       "bob      chat\n",
       "eve     autre\n",
       "eve      chat\n",
       "liz     autre\n",
       "dtype: object"
      ]
     },
     "metadata": {},
     "execution_count": 32
    }
   ],
   "source": [
    "# Tous les index et les valeurs dont la valeur est 'chien' ou\n",
    "# la valeur est 'poisson' sont remplacées par 'autres'\n",
    "s.loc[(s=='chien') | (s=='poisson')] = 'autre'\n",
    "s"
   ]
  },
  {
   "cell_type": "code",
   "execution_count": 33,
   "metadata": {},
   "outputs": [
    {
     "output_type": "execute_result",
     "data": {
      "text/plain": [
       "a    1\n",
       "b    2\n",
       "c    3\n",
       "dtype: int64"
      ]
     },
     "metadata": {},
     "execution_count": 33
    }
   ],
   "source": [
    "# Nouveaux tableaux\n",
    "s1 = pd.Series([1, 2, 3], index=list('abc'))\n",
    "s1"
   ]
  },
  {
   "cell_type": "code",
   "execution_count": 34,
   "metadata": {},
   "outputs": [
    {
     "output_type": "execute_result",
     "data": {
      "text/plain": [
       "a    5\n",
       "c    6\n",
       "d    7\n",
       "dtype: int64"
      ]
     },
     "metadata": {},
     "execution_count": 34
    }
   ],
   "source": [
    "s2 = pd.Series([5, 6, 7], index=list('acd'))\n",
    "s2"
   ]
  },
  {
   "cell_type": "code",
   "execution_count": 35,
   "metadata": {},
   "outputs": [
    {
     "output_type": "execute_result",
     "data": {
      "text/plain": [
       "a    6.0\n",
       "b    NaN\n",
       "c    9.0\n",
       "d    NaN\n",
       "dtype: float64"
      ]
     },
     "metadata": {},
     "execution_count": 35
    }
   ],
   "source": [
    "# Addition entre les deux tableaux ci-dessus :\n",
    "# L'opération ne se fait que pour les index identiques\n",
    "# Et le résultat est toujours un float64\n",
    "s1 + s2"
   ]
  },
  {
   "cell_type": "code",
   "execution_count": 36,
   "metadata": {},
   "outputs": [
    {
     "output_type": "execute_result",
     "data": {
      "text/plain": [
       "a     6.0\n",
       "b    52.0\n",
       "c     9.0\n",
       "d    57.0\n",
       "dtype: float64"
      ]
     },
     "metadata": {},
     "execution_count": 36
    }
   ],
   "source": [
    "# Pour toutes les opérations dont les index ne sont\n",
    "# pas identiques, rajout d'une nouvelle valeur\n",
    "s1.add(s2, fill_value=50)"
   ]
  },
  {
   "cell_type": "code",
   "execution_count": null,
   "metadata": {},
   "outputs": [],
   "source": []
  }
 ],
 "metadata": {
  "kernelspec": {
   "name": "python3",
   "display_name": "Python 3.9.0 32-bit ('virt': venv)"
  },
  "language_info": {
   "codemirror_mode": {
    "name": "ipython",
    "version": 3
   },
   "file_extension": ".py",
   "mimetype": "text/x-python",
   "name": "python",
   "nbconvert_exporter": "python",
   "pygments_lexer": "ipython3",
   "version": "3.9.0"
  },
  "interpreter": {
   "hash": "310030bf3454bf43ed316e973b3bb30e554e0e2234ee37d7ac56d716749a606f"
  }
 },
 "nbformat": 4,
 "nbformat_minor": 5
}