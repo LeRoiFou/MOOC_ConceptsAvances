{
 "cells": [
  {
   "cell_type": "code",
   "execution_count": null,
   "metadata": {},
   "outputs": [],
   "source": [
    "\"\"\"\n",
    "Librairie pandas\n",
    "\n",
    "Notions de la librairie pandas :\n",
    "Tableau à 1 dimension (1 colonne) = Series\n",
    "Tableau à 2 dimensions (2 colonnes) = DataFrame\n",
    "index : en-têtes des lignes\n",
    "\n",
    "L'avantage de cette librairie est que les opérations ne\n",
    "se feront entre deux tableaux qui auront deux index identiques\n",
    "À titre d'exemple deux tableaux avec un en-tête noms, prenoms et âges :\n",
    "Les additions ne se feront que pour les colonnes qui auront le label 'ages'\n",
    "\n",
    "Autre avantage : la librairie pandas permet d'afficher les en-têtes des\n",
    "tableaux qui ne sont pas par principe, créés par le programmeur concepteur.\n",
    "À cela, les données sont généralement importés d'un fichier html, csv,\n",
    "excel, json, sql, python pickle...\n",
    "\n",
    "Les dataframe sont des tableaux à 2 dimensions sur lesquels on va mettre\n",
    "des index sur les lignes et sur les colonnes\n",
    "\n",
    "Éditeur : Laurent REYNAUD\n",
    "Date : 25-06-2021\n",
    "\"\"\""
   ]
  },
  {
   "cell_type": "code",
   "execution_count": 2,
   "metadata": {},
   "outputs": [],
   "source": [
    "import pandas as pd\n",
    "import numpy as np"
   ]
  },
  {
   "cell_type": "code",
   "execution_count": 3,
   "metadata": {},
   "outputs": [],
   "source": [
    "# Une liste de prénoms\n",
    "prenoms = ['liz', 'bob', 'bill', 'eve']"
   ]
  },
  {
   "cell_type": "code",
   "execution_count": 4,
   "metadata": {},
   "outputs": [],
   "source": [
    "# Une series d'âge\n",
    "age = pd.Series([25, 30, 35, 40],\n",
    "                index=prenoms)"
   ]
  },
  {
   "cell_type": "code",
   "execution_count": 5,
   "metadata": {},
   "outputs": [],
   "source": [
    "# Une series de taille\n",
    "taille = pd.Series([160, 175, 170, 180],\n",
    "                   index=prenoms)"
   ]
  },
  {
   "cell_type": "code",
   "execution_count": 6,
   "metadata": {},
   "outputs": [],
   "source": [
    "# Une series de liste de sexe\n",
    "sexe = pd.Series(list('fhhf'),\n",
    "                 index=prenoms)"
   ]
  },
  {
   "cell_type": "code",
   "execution_count": 7,
   "metadata": {},
   "outputs": [
    {
     "output_type": "execute_result",
     "data": {
      "text/plain": [
       "\"Constitution d'une dataframe :\\n-> les entêtes des lignes constituent sont les index\\n-> les entêtes des colonnes sont les clés de la bibliothèque\""
      ]
     },
     "metadata": {},
     "execution_count": 7
    }
   ],
   "source": [
    "\"\"\"Constitution d'une dataframe :\n",
    "-> les entêtes des lignes constituent sont les index\n",
    "-> les entêtes des colonnes sont les clés de la bibliothèque\"\"\""
   ]
  },
  {
   "cell_type": "code",
   "execution_count": 9,
   "metadata": {},
   "outputs": [
    {
     "output_type": "execute_result",
     "data": {
      "text/plain": [
       "      age  taille sexe\n",
       "liz    25     160    f\n",
       "bob    30     175    h\n",
       "bill   35     170    h\n",
       "eve    40     180    f"
      ],
      "text/html": "<div>\n<style scoped>\n    .dataframe tbody tr th:only-of-type {\n        vertical-align: middle;\n    }\n\n    .dataframe tbody tr th {\n        vertical-align: top;\n    }\n\n    .dataframe thead th {\n        text-align: right;\n    }\n</style>\n<table border=\"1\" class=\"dataframe\">\n  <thead>\n    <tr style=\"text-align: right;\">\n      <th></th>\n      <th>age</th>\n      <th>taille</th>\n      <th>sexe</th>\n    </tr>\n  </thead>\n  <tbody>\n    <tr>\n      <th>liz</th>\n      <td>25</td>\n      <td>160</td>\n      <td>f</td>\n    </tr>\n    <tr>\n      <th>bob</th>\n      <td>30</td>\n      <td>175</td>\n      <td>h</td>\n    </tr>\n    <tr>\n      <th>bill</th>\n      <td>35</td>\n      <td>170</td>\n      <td>h</td>\n    </tr>\n    <tr>\n      <th>eve</th>\n      <td>40</td>\n      <td>180</td>\n      <td>f</td>\n    </tr>\n  </tbody>\n</table>\n</div>"
     },
     "metadata": {},
     "execution_count": 9
    }
   ],
   "source": [
    "# Dataframe de la liste et des series ci-avant\n",
    "df = pd.DataFrame({'age': age,\n",
    "                   'taille': taille,\n",
    "                   'sexe': sexe})\n",
    "df"
   ]
  },
  {
   "cell_type": "code",
   "execution_count": 10,
   "metadata": {},
   "outputs": [
    {
     "output_type": "execute_result",
     "data": {
      "text/plain": [
       "Index(['liz', 'bob', 'bill', 'eve'], dtype='object')"
      ]
     },
     "metadata": {},
     "execution_count": 10
    }
   ],
   "source": [
    "# Accès aux attributs de l'index\n",
    "df.index"
   ]
  },
  {
   "cell_type": "code",
   "execution_count": 11,
   "metadata": {},
   "outputs": [
    {
     "output_type": "execute_result",
     "data": {
      "text/plain": [
       "Index(['age', 'taille', 'sexe'], dtype='object')"
      ]
     },
     "metadata": {},
     "execution_count": 11
    }
   ],
   "source": [
    "# Accès aux attributs des colonnes\n",
    "df.columns"
   ]
  },
  {
   "cell_type": "code",
   "execution_count": 12,
   "metadata": {},
   "outputs": [
    {
     "output_type": "execute_result",
     "data": {
      "text/plain": [
       "array([[25, 160, 'f'],\n",
       "       [30, 175, 'h'],\n",
       "       [35, 170, 'h'],\n",
       "       [40, 180, 'f']], dtype=object)"
      ]
     },
     "metadata": {},
     "execution_count": 12
    }
   ],
   "source": [
    "# Accès aux valeurs du tableau numpy\n",
    "df.values"
   ]
  },
  {
   "cell_type": "code",
   "execution_count": 13,
   "metadata": {},
   "outputs": [
    {
     "output_type": "execute_result",
     "data": {
      "text/plain": [
       "     age  taille sexe\n",
       "liz   25     160    f\n",
       "bob   30     175    h"
      ],
      "text/html": "<div>\n<style scoped>\n    .dataframe tbody tr th:only-of-type {\n        vertical-align: middle;\n    }\n\n    .dataframe tbody tr th {\n        vertical-align: top;\n    }\n\n    .dataframe thead th {\n        text-align: right;\n    }\n</style>\n<table border=\"1\" class=\"dataframe\">\n  <thead>\n    <tr style=\"text-align: right;\">\n      <th></th>\n      <th>age</th>\n      <th>taille</th>\n      <th>sexe</th>\n    </tr>\n  </thead>\n  <tbody>\n    <tr>\n      <th>liz</th>\n      <td>25</td>\n      <td>160</td>\n      <td>f</td>\n    </tr>\n    <tr>\n      <th>bob</th>\n      <td>30</td>\n      <td>175</td>\n      <td>h</td>\n    </tr>\n  </tbody>\n</table>\n</div>"
     },
     "metadata": {},
     "execution_count": 13
    }
   ],
   "source": [
    "# Accès aux 2 premières lignes\n",
    "df.head(2)"
   ]
  },
  {
   "cell_type": "code",
   "execution_count": 14,
   "metadata": {},
   "outputs": [
    {
     "output_type": "execute_result",
     "data": {
      "text/plain": [
       "      age  taille sexe\n",
       "bill   35     170    h\n",
       "eve    40     180    f"
      ],
      "text/html": "<div>\n<style scoped>\n    .dataframe tbody tr th:only-of-type {\n        vertical-align: middle;\n    }\n\n    .dataframe tbody tr th {\n        vertical-align: top;\n    }\n\n    .dataframe thead th {\n        text-align: right;\n    }\n</style>\n<table border=\"1\" class=\"dataframe\">\n  <thead>\n    <tr style=\"text-align: right;\">\n      <th></th>\n      <th>age</th>\n      <th>taille</th>\n      <th>sexe</th>\n    </tr>\n  </thead>\n  <tbody>\n    <tr>\n      <th>bill</th>\n      <td>35</td>\n      <td>170</td>\n      <td>h</td>\n    </tr>\n    <tr>\n      <th>eve</th>\n      <td>40</td>\n      <td>180</td>\n      <td>f</td>\n    </tr>\n  </tbody>\n</table>\n</div>"
     },
     "metadata": {},
     "execution_count": 14
    }
   ],
   "source": [
    "# Accès aux 2 derniers lignes\n",
    "df.tail(2)"
   ]
  },
  {
   "cell_type": "code",
   "execution_count": 15,
   "metadata": {},
   "outputs": [
    {
     "output_type": "execute_result",
     "data": {
      "text/plain": [
       "             age      taille\n",
       "count   4.000000    4.000000\n",
       "mean   32.500000  171.250000\n",
       "std     6.454972    8.539126\n",
       "min    25.000000  160.000000\n",
       "25%    28.750000  167.500000\n",
       "50%    32.500000  172.500000\n",
       "75%    36.250000  176.250000\n",
       "max    40.000000  180.000000"
      ],
      "text/html": "<div>\n<style scoped>\n    .dataframe tbody tr th:only-of-type {\n        vertical-align: middle;\n    }\n\n    .dataframe tbody tr th {\n        vertical-align: top;\n    }\n\n    .dataframe thead th {\n        text-align: right;\n    }\n</style>\n<table border=\"1\" class=\"dataframe\">\n  <thead>\n    <tr style=\"text-align: right;\">\n      <th></th>\n      <th>age</th>\n      <th>taille</th>\n    </tr>\n  </thead>\n  <tbody>\n    <tr>\n      <th>count</th>\n      <td>4.000000</td>\n      <td>4.000000</td>\n    </tr>\n    <tr>\n      <th>mean</th>\n      <td>32.500000</td>\n      <td>171.250000</td>\n    </tr>\n    <tr>\n      <th>std</th>\n      <td>6.454972</td>\n      <td>8.539126</td>\n    </tr>\n    <tr>\n      <th>min</th>\n      <td>25.000000</td>\n      <td>160.000000</td>\n    </tr>\n    <tr>\n      <th>25%</th>\n      <td>28.750000</td>\n      <td>167.500000</td>\n    </tr>\n    <tr>\n      <th>50%</th>\n      <td>32.500000</td>\n      <td>172.500000</td>\n    </tr>\n    <tr>\n      <th>75%</th>\n      <td>36.250000</td>\n      <td>176.250000</td>\n    </tr>\n    <tr>\n      <th>max</th>\n      <td>40.000000</td>\n      <td>180.000000</td>\n    </tr>\n  </tbody>\n</table>\n</div>"
     },
     "metadata": {},
     "execution_count": 15
    }
   ],
   "source": [
    "# Statistiques de la dataframe\n",
    "df.describe()"
   ]
  },
  {
   "cell_type": "code",
   "execution_count": 16,
   "metadata": {},
   "outputs": [
    {
     "output_type": "execute_result",
     "data": {
      "text/plain": [
       "'Indexation dans les dataframe'"
      ]
     },
     "metadata": {},
     "execution_count": 16
    }
   ],
   "source": [
    "\"Indexation dans les dataframe\""
   ]
  },
  {
   "cell_type": "code",
   "execution_count": 17,
   "metadata": {},
   "outputs": [
    {
     "output_type": "execute_result",
     "data": {
      "text/plain": [
       "age        25\n",
       "taille    160\n",
       "sexe        f\n",
       "Name: liz, dtype: object"
      ]
     },
     "metadata": {},
     "execution_count": 17
    }
   ],
   "source": [
    "# Accès à une ligne : données concernant 'liz'\n",
    "df.loc['liz']"
   ]
  },
  {
   "cell_type": "code",
   "execution_count": 18,
   "metadata": {},
   "outputs": [
    {
     "output_type": "execute_result",
     "data": {
      "text/plain": [
       "25"
      ]
     },
     "metadata": {},
     "execution_count": 18
    }
   ],
   "source": [
    "# Accès à une valeur d'une ligne et d'une colonne : âge de 'liz'\n",
    "df.loc['liz', 'age']"
   ]
  },
  {
   "cell_type": "code",
   "execution_count": 19,
   "metadata": {},
   "outputs": [
    {
     "output_type": "execute_result",
     "data": {
      "text/plain": [
       "liz     160\n",
       "bob     175\n",
       "bill    170\n",
       "eve     180\n",
       "Name: taille, dtype: int64"
      ]
     },
     "metadata": {},
     "execution_count": 19
    }
   ],
   "source": [
    "# Accès aux éléments d'une colonne : taille de toutes les personnes\n",
    "df.loc[:, 'taille']"
   ]
  },
  {
   "cell_type": "code",
   "execution_count": 20,
   "metadata": {},
   "outputs": [
    {
     "output_type": "execute_result",
     "data": {
      "text/plain": [
       "     age  taille sexe\n",
       "liz   25     160    f\n",
       "bob   30     175    h"
      ],
      "text/html": "<div>\n<style scoped>\n    .dataframe tbody tr th:only-of-type {\n        vertical-align: middle;\n    }\n\n    .dataframe tbody tr th {\n        vertical-align: top;\n    }\n\n    .dataframe thead th {\n        text-align: right;\n    }\n</style>\n<table border=\"1\" class=\"dataframe\">\n  <thead>\n    <tr style=\"text-align: right;\">\n      <th></th>\n      <th>age</th>\n      <th>taille</th>\n      <th>sexe</th>\n    </tr>\n  </thead>\n  <tbody>\n    <tr>\n      <th>liz</th>\n      <td>25</td>\n      <td>160</td>\n      <td>f</td>\n    </tr>\n    <tr>\n      <th>bob</th>\n      <td>30</td>\n      <td>175</td>\n      <td>h</td>\n    </tr>\n  </tbody>\n</table>\n</div>"
     },
     "metadata": {},
     "execution_count": 20
    }
   ],
   "source": [
    "# Accès à tous les éléments de la dataframe selon une condition :\n",
    "# Liste des personnes ayant - de 32 ans\n",
    "df.loc[df.loc[:, 'age']<32]"
   ]
  },
  {
   "cell_type": "code",
   "execution_count": 21,
   "metadata": {},
   "outputs": [
    {
     "output_type": "execute_result",
     "data": {
      "text/plain": [
       "'Modification de la dataframe'"
      ]
     },
     "metadata": {},
     "execution_count": 21
    }
   ],
   "source": [
    "\"Modification de la dataframe\""
   ]
  },
  {
   "cell_type": "code",
   "execution_count": 22,
   "metadata": {},
   "outputs": [
    {
     "output_type": "execute_result",
     "data": {
      "text/plain": [
       "  index  age  taille sexe\n",
       "0   liz   25     160    f\n",
       "1   bob   30     175    h\n",
       "2  bill   35     170    h\n",
       "3   eve   40     180    f"
      ],
      "text/html": "<div>\n<style scoped>\n    .dataframe tbody tr th:only-of-type {\n        vertical-align: middle;\n    }\n\n    .dataframe tbody tr th {\n        vertical-align: top;\n    }\n\n    .dataframe thead th {\n        text-align: right;\n    }\n</style>\n<table border=\"1\" class=\"dataframe\">\n  <thead>\n    <tr style=\"text-align: right;\">\n      <th></th>\n      <th>index</th>\n      <th>age</th>\n      <th>taille</th>\n      <th>sexe</th>\n    </tr>\n  </thead>\n  <tbody>\n    <tr>\n      <th>0</th>\n      <td>liz</td>\n      <td>25</td>\n      <td>160</td>\n      <td>f</td>\n    </tr>\n    <tr>\n      <th>1</th>\n      <td>bob</td>\n      <td>30</td>\n      <td>175</td>\n      <td>h</td>\n    </tr>\n    <tr>\n      <th>2</th>\n      <td>bill</td>\n      <td>35</td>\n      <td>170</td>\n      <td>h</td>\n    </tr>\n    <tr>\n      <th>3</th>\n      <td>eve</td>\n      <td>40</td>\n      <td>180</td>\n      <td>f</td>\n    </tr>\n  </tbody>\n</table>\n</div>"
     },
     "metadata": {},
     "execution_count": 22
    }
   ],
   "source": [
    "# Les données de l'index passent en valeurs de la dataframe\n",
    "df = df.reset_index()\n",
    "df"
   ]
  },
  {
   "cell_type": "code",
   "execution_count": 23,
   "metadata": {},
   "outputs": [
    {
     "output_type": "execute_result",
     "data": {
      "text/plain": [
       "  prenom  age  taille sexe\n",
       "0    liz   25     160    f\n",
       "1    bob   30     175    h\n",
       "2   bill   35     170    h\n",
       "3    eve   40     180    f"
      ],
      "text/html": "<div>\n<style scoped>\n    .dataframe tbody tr th:only-of-type {\n        vertical-align: middle;\n    }\n\n    .dataframe tbody tr th {\n        vertical-align: top;\n    }\n\n    .dataframe thead th {\n        text-align: right;\n    }\n</style>\n<table border=\"1\" class=\"dataframe\">\n  <thead>\n    <tr style=\"text-align: right;\">\n      <th></th>\n      <th>prenom</th>\n      <th>age</th>\n      <th>taille</th>\n      <th>sexe</th>\n    </tr>\n  </thead>\n  <tbody>\n    <tr>\n      <th>0</th>\n      <td>liz</td>\n      <td>25</td>\n      <td>160</td>\n      <td>f</td>\n    </tr>\n    <tr>\n      <th>1</th>\n      <td>bob</td>\n      <td>30</td>\n      <td>175</td>\n      <td>h</td>\n    </tr>\n    <tr>\n      <th>2</th>\n      <td>bill</td>\n      <td>35</td>\n      <td>170</td>\n      <td>h</td>\n    </tr>\n    <tr>\n      <th>3</th>\n      <td>eve</td>\n      <td>40</td>\n      <td>180</td>\n      <td>f</td>\n    </tr>\n  </tbody>\n</table>\n</div>"
     },
     "metadata": {},
     "execution_count": 23
    }
   ],
   "source": [
    "# Renommage de la colonne index modifiée ci-avant\n",
    "df = df.rename(columns={'index': 'prenom'})\n",
    "df"
   ]
  },
  {
   "cell_type": "code",
   "execution_count": 24,
   "metadata": {},
   "outputs": [
    {
     "output_type": "execute_result",
     "data": {
      "text/plain": [
       "    prenom  taille sexe\n",
       "age                    \n",
       "25     liz     160    f\n",
       "30     bob     175    h\n",
       "35    bill     170    h\n",
       "40     eve     180    f"
      ],
      "text/html": "<div>\n<style scoped>\n    .dataframe tbody tr th:only-of-type {\n        vertical-align: middle;\n    }\n\n    .dataframe tbody tr th {\n        vertical-align: top;\n    }\n\n    .dataframe thead th {\n        text-align: right;\n    }\n</style>\n<table border=\"1\" class=\"dataframe\">\n  <thead>\n    <tr style=\"text-align: right;\">\n      <th></th>\n      <th>prenom</th>\n      <th>taille</th>\n      <th>sexe</th>\n    </tr>\n    <tr>\n      <th>age</th>\n      <th></th>\n      <th></th>\n      <th></th>\n    </tr>\n  </thead>\n  <tbody>\n    <tr>\n      <th>25</th>\n      <td>liz</td>\n      <td>160</td>\n      <td>f</td>\n    </tr>\n    <tr>\n      <th>30</th>\n      <td>bob</td>\n      <td>175</td>\n      <td>h</td>\n    </tr>\n    <tr>\n      <th>35</th>\n      <td>bill</td>\n      <td>170</td>\n      <td>h</td>\n    </tr>\n    <tr>\n      <th>40</th>\n      <td>eve</td>\n      <td>180</td>\n      <td>f</td>\n    </tr>\n  </tbody>\n</table>\n</div>"
     },
     "metadata": {},
     "execution_count": 24
    }
   ],
   "source": [
    "# Une colonne de la dataframe passe en index cette fois-ci\n",
    "# Colonne des âges en index\n",
    "df = df.set_index('age')\n",
    "df"
   ]
  },
  {
   "cell_type": "code",
   "execution_count": 25,
   "metadata": {},
   "outputs": [
    {
     "output_type": "execute_result",
     "data": {
      "text/plain": [
       "'Simplification des instructions faites ci-avant'"
      ]
     },
     "metadata": {},
     "execution_count": 25
    }
   ],
   "source": [
    "\"Simplification des instructions faites ci-avant\""
   ]
  },
  {
   "cell_type": "code",
   "execution_count": 27,
   "metadata": {},
   "outputs": [
    {
     "output_type": "execute_result",
     "data": {
      "text/plain": [
       "      age  taille sexe\n",
       "liz    25     160    f\n",
       "bob    30     175    h\n",
       "bill   35     170    h\n",
       "eve    40     180    f"
      ],
      "text/html": "<div>\n<style scoped>\n    .dataframe tbody tr th:only-of-type {\n        vertical-align: middle;\n    }\n\n    .dataframe tbody tr th {\n        vertical-align: top;\n    }\n\n    .dataframe thead th {\n        text-align: right;\n    }\n</style>\n<table border=\"1\" class=\"dataframe\">\n  <thead>\n    <tr style=\"text-align: right;\">\n      <th></th>\n      <th>age</th>\n      <th>taille</th>\n      <th>sexe</th>\n    </tr>\n  </thead>\n  <tbody>\n    <tr>\n      <th>liz</th>\n      <td>25</td>\n      <td>160</td>\n      <td>f</td>\n    </tr>\n    <tr>\n      <th>bob</th>\n      <td>30</td>\n      <td>175</td>\n      <td>h</td>\n    </tr>\n    <tr>\n      <th>bill</th>\n      <td>35</td>\n      <td>170</td>\n      <td>h</td>\n    </tr>\n    <tr>\n      <th>eve</th>\n      <td>40</td>\n      <td>180</td>\n      <td>f</td>\n    </tr>\n  </tbody>\n</table>\n</div>"
     },
     "metadata": {},
     "execution_count": 27
    }
   ],
   "source": [
    "# Réinitialisation de la dataframe\n",
    "df = pd.DataFrame({'age': age,\n",
    "                   'taille': taille,\n",
    "                   'sexe': sexe})\n",
    "df"
   ]
  },
  {
   "cell_type": "code",
   "execution_count": 28,
   "metadata": {},
   "outputs": [
    {
     "output_type": "execute_result",
     "data": {
      "text/plain": [
       "      nom  taille sexe\n",
       "age                   \n",
       "25    liz     160    f\n",
       "30    bob     175    h\n",
       "35   bill     170    h\n",
       "40    eve     180    f"
      ],
      "text/html": "<div>\n<style scoped>\n    .dataframe tbody tr th:only-of-type {\n        vertical-align: middle;\n    }\n\n    .dataframe tbody tr th {\n        vertical-align: top;\n    }\n\n    .dataframe thead th {\n        text-align: right;\n    }\n</style>\n<table border=\"1\" class=\"dataframe\">\n  <thead>\n    <tr style=\"text-align: right;\">\n      <th></th>\n      <th>nom</th>\n      <th>taille</th>\n      <th>sexe</th>\n    </tr>\n    <tr>\n      <th>age</th>\n      <th></th>\n      <th></th>\n      <th></th>\n    </tr>\n  </thead>\n  <tbody>\n    <tr>\n      <th>25</th>\n      <td>liz</td>\n      <td>160</td>\n      <td>f</td>\n    </tr>\n    <tr>\n      <th>30</th>\n      <td>bob</td>\n      <td>175</td>\n      <td>h</td>\n    </tr>\n    <tr>\n      <th>35</th>\n      <td>bill</td>\n      <td>170</td>\n      <td>h</td>\n    </tr>\n    <tr>\n      <th>40</th>\n      <td>eve</td>\n      <td>180</td>\n      <td>f</td>\n    </tr>\n  </tbody>\n</table>\n</div>"
     },
     "metadata": {},
     "execution_count": 28
    }
   ],
   "source": [
    "# Même résultat que les instructions faites dans la partie ci-avant\n",
    "df = (df.reset_index()\n",
    "      .rename(columns={'index': 'nom'})\n",
    "      .set_index('age'))\n",
    "df"
   ]
  },
  {
   "cell_type": "code",
   "execution_count": 29,
   "metadata": {},
   "outputs": [
    {
     "output_type": "execute_result",
     "data": {
      "text/plain": [
       "\"Alignement d'index\""
      ]
     },
     "metadata": {},
     "execution_count": 29
    }
   ],
   "source": [
    "\"Alignement d'index\""
   ]
  },
  {
   "cell_type": "code",
   "execution_count": 30,
   "metadata": {},
   "outputs": [
    {
     "output_type": "execute_result",
     "data": {
      "text/plain": [
       "     x    y\n",
       "a  1.0  1.0\n",
       "b  1.0  1.0"
      ],
      "text/html": "<div>\n<style scoped>\n    .dataframe tbody tr th:only-of-type {\n        vertical-align: middle;\n    }\n\n    .dataframe tbody tr th {\n        vertical-align: top;\n    }\n\n    .dataframe thead th {\n        text-align: right;\n    }\n</style>\n<table border=\"1\" class=\"dataframe\">\n  <thead>\n    <tr style=\"text-align: right;\">\n      <th></th>\n      <th>x</th>\n      <th>y</th>\n    </tr>\n  </thead>\n  <tbody>\n    <tr>\n      <th>a</th>\n      <td>1.0</td>\n      <td>1.0</td>\n    </tr>\n    <tr>\n      <th>b</th>\n      <td>1.0</td>\n      <td>1.0</td>\n    </tr>\n  </tbody>\n</table>\n</div>"
     },
     "metadata": {},
     "execution_count": 30
    }
   ],
   "source": [
    "# 1ère Dataframe contenant que des valeurs 1.00\n",
    "df1 = pd.DataFrame(np.ones((2, 2)),\n",
    "                   index=list('ab'),\n",
    "                   columns=list('xy'))\n",
    "df1"
   ]
  },
  {
   "cell_type": "code",
   "execution_count": 31,
   "metadata": {},
   "outputs": [
    {
     "output_type": "execute_result",
     "data": {
      "text/plain": [
       "     x    z\n",
       "a  1.0  1.0\n",
       "c  1.0  1.0"
      ],
      "text/html": "<div>\n<style scoped>\n    .dataframe tbody tr th:only-of-type {\n        vertical-align: middle;\n    }\n\n    .dataframe tbody tr th {\n        vertical-align: top;\n    }\n\n    .dataframe thead th {\n        text-align: right;\n    }\n</style>\n<table border=\"1\" class=\"dataframe\">\n  <thead>\n    <tr style=\"text-align: right;\">\n      <th></th>\n      <th>x</th>\n      <th>z</th>\n    </tr>\n  </thead>\n  <tbody>\n    <tr>\n      <th>a</th>\n      <td>1.0</td>\n      <td>1.0</td>\n    </tr>\n    <tr>\n      <th>c</th>\n      <td>1.0</td>\n      <td>1.0</td>\n    </tr>\n  </tbody>\n</table>\n</div>"
     },
     "metadata": {},
     "execution_count": 31
    }
   ],
   "source": [
    "# 2ème Dataframe contenant que des valeurs 1.00\n",
    "df2 = pd.DataFrame(np.ones((2, 2)),\n",
    "                   index=list('ac'),\n",
    "                   columns=list('xz'))\n",
    "df2"
   ]
  },
  {
   "cell_type": "code",
   "execution_count": 32,
   "metadata": {},
   "outputs": [
    {
     "output_type": "execute_result",
     "data": {
      "text/plain": [
       "     x   y   z\n",
       "a  2.0 NaN NaN\n",
       "b  NaN NaN NaN\n",
       "c  NaN NaN NaN"
      ],
      "text/html": "<div>\n<style scoped>\n    .dataframe tbody tr th:only-of-type {\n        vertical-align: middle;\n    }\n\n    .dataframe tbody tr th {\n        vertical-align: top;\n    }\n\n    .dataframe thead th {\n        text-align: right;\n    }\n</style>\n<table border=\"1\" class=\"dataframe\">\n  <thead>\n    <tr style=\"text-align: right;\">\n      <th></th>\n      <th>x</th>\n      <th>y</th>\n      <th>z</th>\n    </tr>\n  </thead>\n  <tbody>\n    <tr>\n      <th>a</th>\n      <td>2.0</td>\n      <td>NaN</td>\n      <td>NaN</td>\n    </tr>\n    <tr>\n      <th>b</th>\n      <td>NaN</td>\n      <td>NaN</td>\n      <td>NaN</td>\n    </tr>\n    <tr>\n      <th>c</th>\n      <td>NaN</td>\n      <td>NaN</td>\n      <td>NaN</td>\n    </tr>\n  </tbody>\n</table>\n</div>"
     },
     "metadata": {},
     "execution_count": 32
    }
   ],
   "source": [
    "# Somme des 2 dataframe ci-avant\n",
    "df1 + df2"
   ]
  },
  {
   "cell_type": "code",
   "execution_count": 33,
   "metadata": {},
   "outputs": [
    {
     "output_type": "execute_result",
     "data": {
      "text/plain": [
       "     x    y    z\n",
       "a  2.0  1.0  1.0\n",
       "b  1.0  1.0  NaN\n",
       "c  1.0  NaN  1.0"
      ],
      "text/html": "<div>\n<style scoped>\n    .dataframe tbody tr th:only-of-type {\n        vertical-align: middle;\n    }\n\n    .dataframe tbody tr th {\n        vertical-align: top;\n    }\n\n    .dataframe thead th {\n        text-align: right;\n    }\n</style>\n<table border=\"1\" class=\"dataframe\">\n  <thead>\n    <tr style=\"text-align: right;\">\n      <th></th>\n      <th>x</th>\n      <th>y</th>\n      <th>z</th>\n    </tr>\n  </thead>\n  <tbody>\n    <tr>\n      <th>a</th>\n      <td>2.0</td>\n      <td>1.0</td>\n      <td>1.0</td>\n    </tr>\n    <tr>\n      <th>b</th>\n      <td>1.0</td>\n      <td>1.0</td>\n      <td>NaN</td>\n    </tr>\n    <tr>\n      <th>c</th>\n      <td>1.0</td>\n      <td>NaN</td>\n      <td>1.0</td>\n    </tr>\n  </tbody>\n</table>\n</div>"
     },
     "metadata": {},
     "execution_count": 33
    }
   ],
   "source": [
    "# Intervention sur la somme des 2 dataframe ci-avant\n",
    "df1.add(df2, fill_value=0)"
   ]
  },
  {
   "cell_type": "code",
   "execution_count": 35,
   "metadata": {},
   "outputs": [
    {
     "output_type": "execute_result",
     "data": {
      "text/plain": [
       "     x    y    z\n",
       "a  2.0  1.0  1.0\n",
       "b  1.0  1.0  NaN\n",
       "c  1.0  NaN  1.0"
      ],
      "text/html": "<div>\n<style scoped>\n    .dataframe tbody tr th:only-of-type {\n        vertical-align: middle;\n    }\n\n    .dataframe tbody tr th {\n        vertical-align: top;\n    }\n\n    .dataframe thead th {\n        text-align: right;\n    }\n</style>\n<table border=\"1\" class=\"dataframe\">\n  <thead>\n    <tr style=\"text-align: right;\">\n      <th></th>\n      <th>x</th>\n      <th>y</th>\n      <th>z</th>\n    </tr>\n  </thead>\n  <tbody>\n    <tr>\n      <th>a</th>\n      <td>2.0</td>\n      <td>1.0</td>\n      <td>1.0</td>\n    </tr>\n    <tr>\n      <th>b</th>\n      <td>1.0</td>\n      <td>1.0</td>\n      <td>NaN</td>\n    </tr>\n    <tr>\n      <th>c</th>\n      <td>1.0</td>\n      <td>NaN</td>\n      <td>1.0</td>\n    </tr>\n  </tbody>\n</table>\n</div>"
     },
     "metadata": {},
     "execution_count": 35
    }
   ],
   "source": [
    "# Nouvelle intervention pour supprimer la valeur 'Nan' définitivement\n",
    "df = df1.add(df2, fill_value=0)\n",
    "df"
   ]
  },
  {
   "cell_type": "code",
   "execution_count": 36,
   "metadata": {},
   "outputs": [
    {
     "output_type": "execute_result",
     "data": {
      "text/plain": [
       "     x    y    z\n",
       "a  2.0  1.0  1.0\n",
       "b  1.0  1.0 -1.0\n",
       "c  1.0 -1.0  1.0"
      ],
      "text/html": "<div>\n<style scoped>\n    .dataframe tbody tr th:only-of-type {\n        vertical-align: middle;\n    }\n\n    .dataframe tbody tr th {\n        vertical-align: top;\n    }\n\n    .dataframe thead th {\n        text-align: right;\n    }\n</style>\n<table border=\"1\" class=\"dataframe\">\n  <thead>\n    <tr style=\"text-align: right;\">\n      <th></th>\n      <th>x</th>\n      <th>y</th>\n      <th>z</th>\n    </tr>\n  </thead>\n  <tbody>\n    <tr>\n      <th>a</th>\n      <td>2.0</td>\n      <td>1.0</td>\n      <td>1.0</td>\n    </tr>\n    <tr>\n      <th>b</th>\n      <td>1.0</td>\n      <td>1.0</td>\n      <td>-1.0</td>\n    </tr>\n    <tr>\n      <th>c</th>\n      <td>1.0</td>\n      <td>-1.0</td>\n      <td>1.0</td>\n    </tr>\n  </tbody>\n</table>\n</div>"
     },
     "metadata": {},
     "execution_count": 36
    }
   ],
   "source": [
    "# 1ère solution remplacement de la valeur 'Nan' par une autre valeur\n",
    "df = df.fillna(-1)\n",
    "df"
   ]
  },
  {
   "cell_type": "code",
   "execution_count": 37,
   "metadata": {},
   "outputs": [
    {
     "output_type": "execute_result",
     "data": {
      "text/plain": [
       "     x    y    z\n",
       "a  2.0  1.0  1.0\n",
       "b  1.0  1.0 -1.0\n",
       "c  1.0 -1.0  1.0"
      ],
      "text/html": "<div>\n<style scoped>\n    .dataframe tbody tr th:only-of-type {\n        vertical-align: middle;\n    }\n\n    .dataframe tbody tr th {\n        vertical-align: top;\n    }\n\n    .dataframe thead th {\n        text-align: right;\n    }\n</style>\n<table border=\"1\" class=\"dataframe\">\n  <thead>\n    <tr style=\"text-align: right;\">\n      <th></th>\n      <th>x</th>\n      <th>y</th>\n      <th>z</th>\n    </tr>\n  </thead>\n  <tbody>\n    <tr>\n      <th>a</th>\n      <td>2.0</td>\n      <td>1.0</td>\n      <td>1.0</td>\n    </tr>\n    <tr>\n      <th>b</th>\n      <td>1.0</td>\n      <td>1.0</td>\n      <td>-1.0</td>\n    </tr>\n    <tr>\n      <th>c</th>\n      <td>1.0</td>\n      <td>-1.0</td>\n      <td>1.0</td>\n    </tr>\n  </tbody>\n</table>\n</div>"
     },
     "metadata": {},
     "execution_count": 37
    }
   ],
   "source": [
    "# 2ème solution : suppression des lignes contenant la valeur 'Nan'\n",
    "df = df.dropna()\n",
    "df"
   ]
  },
  {
   "cell_type": "code",
   "execution_count": null,
   "metadata": {},
   "outputs": [],
   "source": []
  }
 ],
 "metadata": {
  "kernelspec": {
   "name": "python3",
   "display_name": "Python 3.9.0 32-bit ('virt': venv)"
  },
  "language_info": {
   "codemirror_mode": {
    "name": "ipython",
    "version": 3
   },
   "file_extension": ".py",
   "mimetype": "text/x-python",
   "name": "python",
   "nbconvert_exporter": "python",
   "pygments_lexer": "ipython3",
   "version": "3.9.0"
  },
  "interpreter": {
   "hash": "310030bf3454bf43ed316e973b3bb30e554e0e2234ee37d7ac56d716749a606f"
  }
 },
 "nbformat": 4,
 "nbformat_minor": 5
}